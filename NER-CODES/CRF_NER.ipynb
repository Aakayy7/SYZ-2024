{
  "nbformat": 4,
  "nbformat_minor": 0,
  "metadata": {
    "colab": {
      "provenance": [],
      "machine_shape": "hm"
    },
    "kernelspec": {
      "name": "python3",
      "display_name": "Python 3"
    },
    "language_info": {
      "name": "python"
    }
  },
  "cells": [
    {
      "cell_type": "code",
      "source": [
        "!pip install sklearn_crfsuite"
      ],
      "metadata": {
        "colab": {
          "base_uri": "https://localhost:8080/"
        },
        "id": "hSAQovuhffbp",
        "outputId": "655dbfdc-619d-4326-c921-b7b3afbfd7e8"
      },
      "execution_count": null,
      "outputs": [
        {
          "output_type": "stream",
          "name": "stdout",
          "text": [
            "Collecting sklearn_crfsuite\n",
            "  Downloading sklearn_crfsuite-0.5.0-py2.py3-none-any.whl (10 kB)\n",
            "Collecting python-crfsuite>=0.9.7 (from sklearn_crfsuite)\n",
            "  Downloading python_crfsuite-0.9.10-cp310-cp310-manylinux_2_17_x86_64.manylinux2014_x86_64.whl (1.1 MB)\n",
            "\u001b[2K     \u001b[90m━━━━━━━━━━━━━━━━━━━━━━━━━━━━━━━━━━━━━━━━\u001b[0m \u001b[32m1.1/1.1 MB\u001b[0m \u001b[31m6.0 MB/s\u001b[0m eta \u001b[36m0:00:00\u001b[0m\n",
            "\u001b[?25hRequirement already satisfied: scikit-learn>=0.24.0 in /usr/local/lib/python3.10/dist-packages (from sklearn_crfsuite) (1.2.2)\n",
            "Requirement already satisfied: tabulate>=0.4.2 in /usr/local/lib/python3.10/dist-packages (from sklearn_crfsuite) (0.9.0)\n",
            "Requirement already satisfied: tqdm>=2.0 in /usr/local/lib/python3.10/dist-packages (from sklearn_crfsuite) (4.66.4)\n",
            "Requirement already satisfied: numpy>=1.17.3 in /usr/local/lib/python3.10/dist-packages (from scikit-learn>=0.24.0->sklearn_crfsuite) (1.25.2)\n",
            "Requirement already satisfied: scipy>=1.3.2 in /usr/local/lib/python3.10/dist-packages (from scikit-learn>=0.24.0->sklearn_crfsuite) (1.11.4)\n",
            "Requirement already satisfied: joblib>=1.1.1 in /usr/local/lib/python3.10/dist-packages (from scikit-learn>=0.24.0->sklearn_crfsuite) (1.4.2)\n",
            "Requirement already satisfied: threadpoolctl>=2.0.0 in /usr/local/lib/python3.10/dist-packages (from scikit-learn>=0.24.0->sklearn_crfsuite) (3.5.0)\n",
            "Installing collected packages: python-crfsuite, sklearn_crfsuite\n",
            "Successfully installed python-crfsuite-0.9.10 sklearn_crfsuite-0.5.0\n"
          ]
        }
      ]
    },
    {
      "cell_type": "code",
      "source": [
        "# Gerekli kütüphaneleri içe aktarın\n",
        "\n",
        "import numpy as np\n",
        "import pandas as pd\n",
        "import sklearn_crfsuite\n",
        "from sklearn_crfsuite import scorers\n",
        "from sklearn_crfsuite import metrics\n"
      ],
      "metadata": {
        "id": "d8TJ8pj4fgWz"
      },
      "execution_count": null,
      "outputs": []
    },
    {
      "cell_type": "code",
      "source": [
        "df1 = pd.read_csv(\"/content/aug_train_dataset.csv\")\n",
        "df2 = pd.read_csv(\"/content/aug_test_dataset.csv\")\n",
        "\n",
        "result = pd.concat([df1, df2])\n",
        "result.to_csv('main_dataset.csv', index=False)"
      ],
      "metadata": {
        "id": "IQQ-M96uytnh"
      },
      "execution_count": null,
      "outputs": []
    },
    {
      "cell_type": "code",
      "source": [
        "# Son dataframe'i yeniden yükleyin\n",
        "\n",
        "final_df = pd.read_csv(\"/content/aug_dataset.csv\")"
      ],
      "metadata": {
        "id": "LFORAXDKf7p-"
      },
      "execution_count": null,
      "outputs": []
    },
    {
      "cell_type": "code",
      "source": [
        "# Cümleleri elde etmek için bir sınıf tanımlayın\n",
        "\n",
        "class SentenceGetter(object):\n",
        "\n",
        "    def __init__(self, data):\n",
        "        self.n_sent = 1\n",
        "        self.data = data\n",
        "        self.empty = False\n",
        "        agg_func = lambda s: [(w, t) for w, t in zip(s['word'].values.tolist(),\n",
        "                                                           s['label'].values.tolist())]\n",
        "        self.grouped = self.data.groupby('sentence_id').apply(agg_func)\n",
        "        self.sentences = [s for s in self.grouped]\n",
        "\n",
        "    def get_next(self):\n",
        "        try:\n",
        "            s = self.grouped['Sentence: {}'.format(self.n_sent)]\n",
        "            self.n_sent += 1\n",
        "            return s\n",
        "        except:\n",
        "            return None\n",
        "\n",
        "\n",
        "# Veri setinden cümleleri alın\n",
        "\n",
        "getter = SentenceGetter(final_df)\n",
        "sentences = getter.sentences"
      ],
      "metadata": {
        "id": "6f7nuSgzf7ow"
      },
      "execution_count": null,
      "outputs": []
    },
    {
      "cell_type": "code",
      "source": [
        "# Her kelimenin özelliklerini oluşturan bir fonksiyon tanımlayın\n",
        "\n",
        "def word2features(sent, i):\n",
        "    word = sent[i][0]\n",
        "    postag = sent[i][1]\n",
        "\n",
        "    features = {\n",
        "        'bias': 1.0,\n",
        "        'word.lower()': word.lower(),\n",
        "        'word[-3:]': word[-3:],\n",
        "        'word[-2:]': word[-2:],\n",
        "        'word.isupper()': word.isupper(),\n",
        "        'word.istitle()': word.istitle(),\n",
        "        'word.isdigit()': word.isdigit()\n",
        "    }\n",
        "    if i > 0:\n",
        "        word1 = sent[i-1][0]\n",
        "        features.update({\n",
        "            '-1:word.lower()': word1.lower(),\n",
        "            '-1:word.istitle()': word1.istitle(),\n",
        "            '-1:word.isupper()': word1.isupper()\n",
        "        })\n",
        "    else:\n",
        "        features['BOS'] = True\n",
        "    if i < len(sent)-1:\n",
        "        word1 = sent[i+1][0]\n",
        "        features.update({\n",
        "            '+1:word.lower()': word1.lower(),\n",
        "            '+1:word.istitle()': word1.istitle(),\n",
        "            '+1:word.isupper()': word1.isupper()\n",
        "        })\n",
        "    else:\n",
        "        features['EOS'] = True\n",
        "\n",
        "    return features\n",
        "\n",
        "# Bir cümleyi özelliklere dönüştüren bir fonksiyon tanımlayın\n",
        "def sent2features(sent):\n",
        "    return [word2features(sent, i) for i in range(len(sent))]\n",
        "\n",
        "# Bir cümlenin etiketlerini döndüren bir fonksiyon tanımlayın\n",
        "def sent2labels(sent):\n",
        "    return [label for token, label in sent]\n",
        "\n",
        "# Bir cümlenin kelimelerini döndüren bir fonksiyon tanımlayın\n",
        "def sent2tokens(sent):\n",
        "    return [token for token, label in sent]"
      ],
      "metadata": {
        "id": "6MJMEAuZgNdc"
      },
      "execution_count": null,
      "outputs": []
    },
    {
      "cell_type": "code",
      "source": [
        "# Özellikleri ve etiketleri ayırın\n",
        "\n",
        "X = [sent2features(s) for s in sentences]\n",
        "y = [sent2labels(s) for s in sentences]"
      ],
      "metadata": {
        "id": "Jqp9z6jogQAq"
      },
      "execution_count": null,
      "outputs": []
    },
    {
      "cell_type": "code",
      "source": [
        "len(X)\n",
        "len(y)"
      ],
      "metadata": {
        "colab": {
          "base_uri": "https://localhost:8080/"
        },
        "id": "LcBEiJZDgRsC",
        "outputId": "80a0cda4-a701-40a9-871a-bb0b32f9cc6a"
      },
      "execution_count": null,
      "outputs": [
        {
          "output_type": "execute_result",
          "data": {
            "text/plain": [
              "1145"
            ]
          },
          "metadata": {},
          "execution_count": 23
        }
      ]
    },
    {
      "cell_type": "code",
      "source": [
        "from sklearn.model_selection import train_test_split\n",
        "\n",
        "# Eğitim ve test veri setlerini ayırın\n",
        "\n",
        "X_test ,X_train , y_test , y_train  = train_test_split(X, y, test_size=len(X)-250, random_state=42)"
      ],
      "metadata": {
        "id": "U8YFLxD0gS21"
      },
      "execution_count": null,
      "outputs": []
    },
    {
      "cell_type": "code",
      "source": [
        "len(X_test)"
      ],
      "metadata": {
        "colab": {
          "base_uri": "https://localhost:8080/"
        },
        "id": "U6Ues4IF2GqQ",
        "outputId": "e41800ca-a3f7-406e-e57b-e5a1f7215951"
      },
      "execution_count": null,
      "outputs": [
        {
          "output_type": "execute_result",
          "data": {
            "text/plain": [
              "250"
            ]
          },
          "metadata": {},
          "execution_count": 25
        }
      ]
    },
    {
      "cell_type": "code",
      "source": [
        "from sklearn.model_selection import GridSearchCV\n",
        "import sklearn_crfsuite\n",
        "\n",
        "# Define parameter grid\n",
        "param_grid = {\n",
        "    'c1': [0.01, 0.02, 0.03, 0.1, 0.2 ,0.3 , 1],\n",
        "    'c2': [0.01, 0.02, 0.03, 0.1, 0.2 ,0.3 , 1],\n",
        "    'max_iterations': [100, 120, 140 , 160 , 200],\n",
        "    'all_possible_transitions': [True, False]\n",
        "}\n",
        "\n",
        "# Define the CRF model\n",
        "crf = sklearn_crfsuite.CRF(\n",
        "    algorithm='lbfgs',\n",
        "    max_iterations=160,\n",
        "    all_possible_transitions=True,\n",
        "    verbose=True\n",
        ")\n",
        "\n",
        "# Perform grid search with cross-validation\n",
        "grid_search = GridSearchCV(crf, param_grid, cv=3, verbose=1, n_jobs=-1)\n",
        "grid_search.fit(X_train, y_train)\n",
        "\n",
        "# Best parameters and model\n",
        "best_crf = grid_search.best_estimator_\n",
        "print(\"Best parameters:\", grid_search.best_params_)\n"
      ],
      "metadata": {
        "id": "t6oyEkB72pz-"
      },
      "execution_count": null,
      "outputs": []
    },
    {
      "cell_type": "code",
      "source": [
        "# CRF modelini tanımlayın ve eğitin\n",
        "\n",
        "crf = sklearn_crfsuite.CRF(\n",
        "    algorithm='lbfgs',\n",
        "    c1=0.1,\n",
        "    c2=0.1,\n",
        "    max_iterations=100,\n",
        "    all_possible_transitions=True,\n",
        "    verbose=True\n",
        ")\n",
        "crf.fit(X_train, y_train)"
      ],
      "metadata": {
        "id": "sxOC98q_gVHG",
        "colab": {
          "base_uri": "https://localhost:8080/",
          "height": 1000
        },
        "outputId": "c17723ea-92c0-4674-8cff-3aa897feff8f"
      },
      "execution_count": null,
      "outputs": [
        {
          "output_type": "stream",
          "name": "stderr",
          "text": [
            "loading training data to CRFsuite: 100%|██████████| 895/895 [00:00<00:00, 2578.97it/s]\n"
          ]
        },
        {
          "output_type": "stream",
          "name": "stdout",
          "text": [
            "\n",
            "Feature generation\n",
            "type: CRF1d\n",
            "feature.minfreq: 0.000000\n",
            "feature.possible_states: 0\n",
            "feature.possible_transitions: 1\n",
            "0....1....2....3....4....5....6....7....8....9....10\n",
            "Number of features: 13214\n",
            "Seconds required: 0.082\n",
            "\n",
            "L-BFGS optimization\n",
            "c1: 0.100000\n",
            "c2: 0.100000\n",
            "num_memories: 6\n",
            "max_iterations: 100\n",
            "epsilon: 0.000010\n",
            "stop: 10\n",
            "delta: 0.000010\n",
            "linesearch: MoreThuente\n",
            "linesearch.max_iterations: 20\n",
            "\n",
            "Iter 1   time=0.06  loss=77704.99 active=13019 feature_norm=1.00\n",
            "Iter 2   time=0.03  loss=72816.82 active=12214 feature_norm=1.50\n",
            "Iter 3   time=0.03  loss=65217.65 active=12646 feature_norm=2.38\n",
            "Iter 4   time=0.04  loss=57565.19 active=12738 feature_norm=4.17\n",
            "Iter 5   time=0.03  loss=53508.08 active=12877 feature_norm=5.34\n",
            "Iter 6   time=0.03  loss=51210.06 active=13015 feature_norm=6.13\n",
            "Iter 7   time=0.03  loss=49487.21 active=13004 feature_norm=7.69\n",
            "Iter 8   time=0.03  loss=47917.87 active=13037 feature_norm=8.24\n",
            "Iter 9   time=0.03  loss=46300.75 active=13010 feature_norm=9.49\n",
            "Iter 10  time=0.03  loss=44574.42 active=13015 feature_norm=11.42\n",
            "Iter 11  time=0.03  loss=43370.74 active=13027 feature_norm=12.72\n",
            "Iter 12  time=0.03  loss=42366.60 active=12955 feature_norm=14.21\n",
            "Iter 13  time=0.03  loss=40637.33 active=12864 feature_norm=17.65\n",
            "Iter 14  time=0.03  loss=40625.25 active=12935 feature_norm=21.20\n",
            "Iter 15  time=0.03  loss=39068.68 active=13030 feature_norm=21.14\n",
            "Iter 16  time=0.03  loss=38714.94 active=13043 feature_norm=21.90\n",
            "Iter 17  time=0.03  loss=38183.44 active=12964 feature_norm=23.31\n",
            "Iter 18  time=0.03  loss=38087.68 active=13043 feature_norm=24.77\n",
            "Iter 19  time=0.03  loss=37457.53 active=13124 feature_norm=25.63\n",
            "Iter 20  time=0.03  loss=37159.98 active=13066 feature_norm=26.65\n",
            "Iter 21  time=0.03  loss=36532.76 active=12980 feature_norm=30.26\n",
            "Iter 22  time=0.03  loss=36197.17 active=12940 feature_norm=34.56\n",
            "Iter 23  time=0.03  loss=35600.34 active=13051 feature_norm=35.84\n",
            "Iter 24  time=0.03  loss=35327.62 active=13034 feature_norm=37.09\n",
            "Iter 25  time=0.03  loss=34787.19 active=12959 feature_norm=40.41\n",
            "Iter 26  time=0.03  loss=34309.57 active=12971 feature_norm=43.98\n",
            "Iter 27  time=0.03  loss=33935.05 active=13004 feature_norm=48.17\n",
            "Iter 28  time=0.03  loss=33631.89 active=13041 feature_norm=49.95\n",
            "Iter 29  time=0.03  loss=33292.06 active=12975 feature_norm=53.44\n",
            "Iter 30  time=0.03  loss=32929.36 active=12937 feature_norm=57.38\n",
            "Iter 31  time=0.03  loss=32652.19 active=12848 feature_norm=64.12\n",
            "Iter 32  time=0.03  loss=32372.99 active=12981 feature_norm=66.41\n",
            "Iter 33  time=0.03  loss=32225.19 active=12988 feature_norm=68.94\n",
            "Iter 34  time=0.03  loss=31979.46 active=12874 feature_norm=74.00\n",
            "Iter 35  time=0.03  loss=31745.72 active=12794 feature_norm=78.90\n",
            "Iter 36  time=0.03  loss=31574.70 active=12850 feature_norm=84.10\n",
            "Iter 37  time=0.03  loss=31491.98 active=12855 feature_norm=90.38\n",
            "Iter 38  time=0.03  loss=31354.91 active=12887 feature_norm=91.23\n",
            "Iter 39  time=0.03  loss=31300.78 active=12893 feature_norm=92.31\n",
            "Iter 40  time=0.03  loss=31210.56 active=12877 feature_norm=94.51\n",
            "Iter 41  time=0.06  loss=31184.06 active=12855 feature_norm=94.37\n",
            "Iter 42  time=0.03  loss=31083.05 active=12890 feature_norm=96.15\n",
            "Iter 43  time=0.03  loss=31044.84 active=12895 feature_norm=96.90\n",
            "Iter 44  time=0.03  loss=30976.10 active=12816 feature_norm=98.24\n",
            "Iter 45  time=0.05  loss=30948.93 active=12781 feature_norm=99.96\n",
            "Iter 46  time=0.03  loss=30895.48 active=12788 feature_norm=100.59\n",
            "Iter 47  time=0.03  loss=30860.67 active=12806 feature_norm=101.07\n",
            "Iter 48  time=0.03  loss=30822.36 active=12742 feature_norm=101.78\n",
            "Iter 49  time=0.03  loss=30787.80 active=12680 feature_norm=102.54\n",
            "Iter 50  time=0.03  loss=30750.30 active=12594 feature_norm=103.21\n",
            "Iter 51  time=0.03  loss=30724.11 active=12585 feature_norm=103.61\n",
            "Iter 52  time=0.03  loss=30698.27 active=12545 feature_norm=104.30\n",
            "Iter 53  time=0.03  loss=30674.50 active=12551 feature_norm=104.73\n",
            "Iter 54  time=0.03  loss=30655.27 active=12561 feature_norm=105.13\n",
            "Iter 55  time=0.03  loss=30633.67 active=12548 feature_norm=105.62\n",
            "Iter 56  time=0.03  loss=30616.33 active=12518 feature_norm=106.15\n",
            "Iter 57  time=0.03  loss=30600.89 active=12530 feature_norm=106.45\n",
            "Iter 58  time=0.03  loss=30586.71 active=12539 feature_norm=106.79\n",
            "Iter 59  time=0.03  loss=30573.19 active=12519 feature_norm=107.13\n",
            "Iter 60  time=0.03  loss=30561.02 active=12520 feature_norm=107.46\n",
            "Iter 61  time=0.03  loss=30550.59 active=12518 feature_norm=107.66\n",
            "Iter 62  time=0.03  loss=30540.46 active=12502 feature_norm=107.94\n",
            "Iter 63  time=0.03  loss=30531.54 active=12499 feature_norm=108.13\n",
            "Iter 64  time=0.03  loss=30522.43 active=12484 feature_norm=108.35\n",
            "Iter 65  time=0.03  loss=30513.40 active=12476 feature_norm=108.50\n",
            "Iter 66  time=0.03  loss=30503.28 active=12461 feature_norm=108.70\n",
            "Iter 67  time=0.03  loss=30495.58 active=12441 feature_norm=108.83\n",
            "Iter 68  time=0.03  loss=30486.63 active=12433 feature_norm=108.97\n",
            "Iter 69  time=0.03  loss=30479.25 active=12435 feature_norm=109.05\n",
            "Iter 70  time=0.03  loss=30471.78 active=12430 feature_norm=109.17\n",
            "Iter 71  time=0.03  loss=30465.38 active=12415 feature_norm=109.20\n",
            "Iter 72  time=0.03  loss=30459.16 active=12409 feature_norm=109.26\n",
            "Iter 73  time=0.03  loss=30453.21 active=12400 feature_norm=109.26\n",
            "Iter 74  time=0.03  loss=30447.33 active=12372 feature_norm=109.30\n",
            "Iter 75  time=0.03  loss=30441.82 active=12360 feature_norm=109.29\n",
            "Iter 76  time=0.03  loss=30436.46 active=12362 feature_norm=109.30\n",
            "Iter 77  time=0.03  loss=30431.63 active=12349 feature_norm=109.26\n",
            "Iter 78  time=0.03  loss=30426.14 active=12360 feature_norm=109.24\n",
            "Iter 79  time=0.03  loss=30421.41 active=12335 feature_norm=109.23\n",
            "Iter 80  time=0.03  loss=30416.72 active=12300 feature_norm=109.22\n",
            "Iter 81  time=0.03  loss=30412.41 active=12287 feature_norm=109.21\n",
            "Iter 82  time=0.03  loss=30407.87 active=12278 feature_norm=109.22\n",
            "Iter 83  time=0.03  loss=30403.55 active=12264 feature_norm=109.23\n",
            "Iter 84  time=0.03  loss=30399.53 active=12255 feature_norm=109.26\n",
            "Iter 85  time=0.03  loss=30396.02 active=12244 feature_norm=109.28\n",
            "Iter 86  time=0.03  loss=30392.58 active=12249 feature_norm=109.31\n",
            "Iter 87  time=0.03  loss=30389.68 active=12237 feature_norm=109.35\n",
            "Iter 88  time=0.03  loss=30386.44 active=12221 feature_norm=109.39\n",
            "Iter 89  time=0.03  loss=30383.32 active=12223 feature_norm=109.43\n",
            "Iter 90  time=0.03  loss=30380.52 active=12202 feature_norm=109.49\n",
            "Iter 91  time=0.03  loss=30377.72 active=12201 feature_norm=109.54\n",
            "Iter 92  time=0.03  loss=30375.03 active=12203 feature_norm=109.59\n",
            "Iter 93  time=0.03  loss=30372.16 active=12187 feature_norm=109.65\n",
            "Iter 94  time=0.03  loss=30369.43 active=12180 feature_norm=109.72\n",
            "Iter 95  time=0.03  loss=30366.85 active=12180 feature_norm=109.77\n",
            "Iter 96  time=0.03  loss=30364.31 active=12173 feature_norm=109.83\n",
            "Iter 97  time=0.03  loss=30362.07 active=12167 feature_norm=109.89\n",
            "Iter 98  time=0.03  loss=30359.92 active=12156 feature_norm=109.95\n",
            "Iter 99  time=0.03  loss=30358.01 active=12164 feature_norm=110.00\n",
            "Iter 100 time=0.03  loss=30355.95 active=12158 feature_norm=110.05\n",
            "L-BFGS terminated with the maximum number of iterations\n",
            "Total seconds required for training: 3.026\n",
            "\n",
            "Storing the model\n",
            "Number of active features: 12158 (13214)\n",
            "Number of active attributes: 6587 (7056)\n",
            "Number of active labels: 5 (5)\n",
            "Writing labels\n",
            "Writing attributes\n",
            "Writing feature references for transitions\n",
            "Writing feature references for attributes\n",
            "Seconds required: 0.004\n",
            "\n"
          ]
        },
        {
          "output_type": "execute_result",
          "data": {
            "text/plain": [
              "CRF(algorithm='lbfgs', all_possible_transitions=True, c1=0.1, c2=0.1,\n",
              "    max_iterations=100, verbose=True)"
            ],
            "text/html": [
              "<style>#sk-container-id-2 {color: black;background-color: white;}#sk-container-id-2 pre{padding: 0;}#sk-container-id-2 div.sk-toggleable {background-color: white;}#sk-container-id-2 label.sk-toggleable__label {cursor: pointer;display: block;width: 100%;margin-bottom: 0;padding: 0.3em;box-sizing: border-box;text-align: center;}#sk-container-id-2 label.sk-toggleable__label-arrow:before {content: \"▸\";float: left;margin-right: 0.25em;color: #696969;}#sk-container-id-2 label.sk-toggleable__label-arrow:hover:before {color: black;}#sk-container-id-2 div.sk-estimator:hover label.sk-toggleable__label-arrow:before {color: black;}#sk-container-id-2 div.sk-toggleable__content {max-height: 0;max-width: 0;overflow: hidden;text-align: left;background-color: #f0f8ff;}#sk-container-id-2 div.sk-toggleable__content pre {margin: 0.2em;color: black;border-radius: 0.25em;background-color: #f0f8ff;}#sk-container-id-2 input.sk-toggleable__control:checked~div.sk-toggleable__content {max-height: 200px;max-width: 100%;overflow: auto;}#sk-container-id-2 input.sk-toggleable__control:checked~label.sk-toggleable__label-arrow:before {content: \"▾\";}#sk-container-id-2 div.sk-estimator input.sk-toggleable__control:checked~label.sk-toggleable__label {background-color: #d4ebff;}#sk-container-id-2 div.sk-label input.sk-toggleable__control:checked~label.sk-toggleable__label {background-color: #d4ebff;}#sk-container-id-2 input.sk-hidden--visually {border: 0;clip: rect(1px 1px 1px 1px);clip: rect(1px, 1px, 1px, 1px);height: 1px;margin: -1px;overflow: hidden;padding: 0;position: absolute;width: 1px;}#sk-container-id-2 div.sk-estimator {font-family: monospace;background-color: #f0f8ff;border: 1px dotted black;border-radius: 0.25em;box-sizing: border-box;margin-bottom: 0.5em;}#sk-container-id-2 div.sk-estimator:hover {background-color: #d4ebff;}#sk-container-id-2 div.sk-parallel-item::after {content: \"\";width: 100%;border-bottom: 1px solid gray;flex-grow: 1;}#sk-container-id-2 div.sk-label:hover label.sk-toggleable__label {background-color: #d4ebff;}#sk-container-id-2 div.sk-serial::before {content: \"\";position: absolute;border-left: 1px solid gray;box-sizing: border-box;top: 0;bottom: 0;left: 50%;z-index: 0;}#sk-container-id-2 div.sk-serial {display: flex;flex-direction: column;align-items: center;background-color: white;padding-right: 0.2em;padding-left: 0.2em;position: relative;}#sk-container-id-2 div.sk-item {position: relative;z-index: 1;}#sk-container-id-2 div.sk-parallel {display: flex;align-items: stretch;justify-content: center;background-color: white;position: relative;}#sk-container-id-2 div.sk-item::before, #sk-container-id-2 div.sk-parallel-item::before {content: \"\";position: absolute;border-left: 1px solid gray;box-sizing: border-box;top: 0;bottom: 0;left: 50%;z-index: -1;}#sk-container-id-2 div.sk-parallel-item {display: flex;flex-direction: column;z-index: 1;position: relative;background-color: white;}#sk-container-id-2 div.sk-parallel-item:first-child::after {align-self: flex-end;width: 50%;}#sk-container-id-2 div.sk-parallel-item:last-child::after {align-self: flex-start;width: 50%;}#sk-container-id-2 div.sk-parallel-item:only-child::after {width: 0;}#sk-container-id-2 div.sk-dashed-wrapped {border: 1px dashed gray;margin: 0 0.4em 0.5em 0.4em;box-sizing: border-box;padding-bottom: 0.4em;background-color: white;}#sk-container-id-2 div.sk-label label {font-family: monospace;font-weight: bold;display: inline-block;line-height: 1.2em;}#sk-container-id-2 div.sk-label-container {text-align: center;}#sk-container-id-2 div.sk-container {/* jupyter's `normalize.less` sets `[hidden] { display: none; }` but bootstrap.min.css set `[hidden] { display: none !important; }` so we also need the `!important` here to be able to override the default hidden behavior on the sphinx rendered scikit-learn.org. See: https://github.com/scikit-learn/scikit-learn/issues/21755 */display: inline-block !important;position: relative;}#sk-container-id-2 div.sk-text-repr-fallback {display: none;}</style><div id=\"sk-container-id-2\" class=\"sk-top-container\"><div class=\"sk-text-repr-fallback\"><pre>CRF(algorithm=&#x27;lbfgs&#x27;, all_possible_transitions=True, c1=0.1, c2=0.1,\n",
              "    max_iterations=100, verbose=True)</pre><b>In a Jupyter environment, please rerun this cell to show the HTML representation or trust the notebook. <br />On GitHub, the HTML representation is unable to render, please try loading this page with nbviewer.org.</b></div><div class=\"sk-container\" hidden><div class=\"sk-item\"><div class=\"sk-estimator sk-toggleable\"><input class=\"sk-toggleable__control sk-hidden--visually\" id=\"sk-estimator-id-2\" type=\"checkbox\" checked><label for=\"sk-estimator-id-2\" class=\"sk-toggleable__label sk-toggleable__label-arrow\">CRF</label><div class=\"sk-toggleable__content\"><pre>CRF(algorithm=&#x27;lbfgs&#x27;, all_possible_transitions=True, c1=0.1, c2=0.1,\n",
              "    max_iterations=100, verbose=True)</pre></div></div></div></div></div>"
            ]
          },
          "metadata": {},
          "execution_count": 27
        }
      ]
    },
    {
      "cell_type": "code",
      "source": [
        "# Tüm varlıkları sıralayın\n",
        "\n",
        "all_entities = sorted(final_df.label.unique().tolist())\n"
      ],
      "metadata": {
        "id": "9LZweO5qgVF8"
      },
      "execution_count": null,
      "outputs": []
    },
    {
      "cell_type": "code",
      "source": [
        "# Test veri setinde tahmin yapın\n",
        "y_pred = crf.predict(X_test)\n",
        "\n",
        "# F1 skorunu hesaplayın\n",
        "metrics.flat_f1_score(y_test, y_pred, average='weighted', labels=all_entities)\n"
      ],
      "metadata": {
        "id": "LRjAZhCIgXlY",
        "colab": {
          "base_uri": "https://localhost:8080/"
        },
        "outputId": "6af50dba-96f1-4fbb-cce9-befdeab16e33"
      },
      "execution_count": null,
      "outputs": [
        {
          "output_type": "execute_result",
          "data": {
            "text/plain": [
              "0.7718777139729169"
            ]
          },
          "metadata": {},
          "execution_count": 29
        }
      ]
    },
    {
      "cell_type": "code",
      "source": [
        "y_pred = crf.predict(X_test)\n",
        "metrics.flat_f1_score(y_test, y_pred, average='weighted', labels=[i for i in all_entities if i != 'O'])"
      ],
      "metadata": {
        "id": "qpnsWUS9gYZ9",
        "colab": {
          "base_uri": "https://localhost:8080/"
        },
        "outputId": "852b9d9c-b7f4-47eb-ecce-e168c6406406"
      },
      "execution_count": null,
      "outputs": [
        {
          "output_type": "execute_result",
          "data": {
            "text/plain": [
              "0.7358367006852877"
            ]
          },
          "metadata": {},
          "execution_count": 30
        }
      ]
    },
    {
      "cell_type": "code",
      "source": [
        "from sklearn.metrics import classification_report\n",
        "\n",
        "# Convert y_test and y_pred to flat lists\n",
        "y_test_flat = [label for sublist in y_test for label in sublist]\n",
        "y_pred_flat = [label for sublist in y_pred for label in sublist]\n",
        "\n",
        "# Generate the classification report\n",
        "print(classification_report(y_test_flat, y_pred_flat, labels=all_entities))"
      ],
      "metadata": {
        "id": "WM535nmJgYYm",
        "colab": {
          "base_uri": "https://localhost:8080/"
        },
        "outputId": "721366dc-fbd5-4fec-ee0d-ac167352ce2b"
      },
      "execution_count": null,
      "outputs": [
        {
          "output_type": "stream",
          "name": "stdout",
          "text": [
            "               precision    recall  f1-score   support\n",
            "\n",
            "         ANAT       0.72      0.76      0.74      4279\n",
            "            O       0.81      0.79      0.80     11936\n",
            "   OBS-ABSENT       0.74      0.85      0.79      1962\n",
            "  OBS-PRESENT       0.72      0.65      0.68      3777\n",
            "OBS-UNCERTAIN       0.65      0.68      0.66       167\n",
            "\n",
            "     accuracy                           0.77     22121\n",
            "    macro avg       0.73      0.75      0.74     22121\n",
            " weighted avg       0.77      0.77      0.77     22121\n",
            "\n"
          ]
        }
      ]
    },
    {
      "cell_type": "code",
      "source": [],
      "metadata": {
        "id": "KcYY-RsT-pdR"
      },
      "execution_count": null,
      "outputs": []
    }
  ]
}