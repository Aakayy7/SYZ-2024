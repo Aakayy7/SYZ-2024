{
 "cells": [
  {
   "cell_type": "code",
   "execution_count": 2,
   "metadata": {},
   "outputs": [
    {
     "name": "stdout",
     "output_type": "stream",
     "text": [
      "Conversion complete. CoNLL formatted data saved to 'output.conll'.\n"
     ]
    }
   ],
   "source": [
    "import pandas as pd\n",
    "\n",
    "# Load the CSV file\n",
    "df = pd.read_csv('p_saf_dataset.csv')\n",
    "\n",
    "# Open a new file to save the CoNLL formatted data\n",
    "with open('p_saf_dataset.conll', 'w', encoding='utf-8') as f:\n",
    "    # Iterate over the rows of the dataframe\n",
    "    for i, row in df.iterrows():\n",
    "        # Write the word and label in CoNLL format\n",
    "        f.write(f\"{row['word']} {row['label']}\\n\")\n",
    "        \n",
    "        # If the next row has a different sentence_id, add a blank line\n",
    "        if i < len(df) - 1 and df.at[i, 'sentence_id'] != df.at[i + 1, 'sentence_id']:\n",
    "            f.write(\"\\n\")\n",
    "\n",
    "print(\"Conversion complete. CoNLL formatted data saved to 'output.conll'.\")\n"
   ]
  }
 ],
 "metadata": {
  "kernelspec": {
   "display_name": "Python 3",
   "language": "python",
   "name": "python3"
  },
  "language_info": {
   "codemirror_mode": {
    "name": "ipython",
    "version": 3
   },
   "file_extension": ".py",
   "mimetype": "text/x-python",
   "name": "python",
   "nbconvert_exporter": "python",
   "pygments_lexer": "ipython3",
   "version": "3.10.4"
  }
 },
 "nbformat": 4,
 "nbformat_minor": 2
}
