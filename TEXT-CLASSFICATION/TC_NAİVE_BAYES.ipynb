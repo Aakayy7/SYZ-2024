{
  "nbformat": 4,
  "nbformat_minor": 0,
  "metadata": {
    "colab": {
      "provenance": []
    },
    "kernelspec": {
      "name": "python3",
      "display_name": "Python 3"
    },
    "language_info": {
      "name": "python"
    }
  },
  "cells": [
    {
      "cell_type": "code",
      "execution_count": null,
      "metadata": {
        "id": "2Iwgjwwg5O6g"
      },
      "outputs": [],
      "source": [
        "import pandas as pd\n",
        "from sklearn.feature_extraction.text import TfidfVectorizer, CountVectorizer\n",
        "from sklearn.naive_bayes import MultinomialNB\n",
        "from sklearn.model_selection import train_test_split\n",
        "from sklearn.metrics import classification_report, confusion_matrix , accuracy_score\n",
        "from sklearn.ensemble import RandomForestClassifier\n",
        "from sklearn.svm import LinearSVC\n",
        "from sklearn.utils import resample\n",
        "from sklearn.svm import SVC\n",
        "from sklearn.linear_model import LogisticRegression\n",
        "import numpy as np\n",
        "import xgboost as xgb\n",
        "from sklearn import preprocessing\n",
        "from sklearn.model_selection import learning_curve\n",
        "from sklearn.model_selection import ShuffleSplit\n",
        "import matplotlib.pyplot as plt\n",
        "from sklearn import preprocessing, decomposition\n",
        "from sklearn.decomposition import TruncatedSVD\n",
        "from sklearn.metrics import confusion_matrix\n",
        "import itertools\n",
        "from nltk.corpus import stopwords\n",
        "import re\n",
        "from bs4 import BeautifulSoup\n",
        "%matplotlib inline\n",
        "from yellowbrick.text import FreqDistVisualizer\n",
        "import torch\n",
        "from tqdm.notebook import tqdm\n",
        "from transformers import BertTokenizer\n",
        "from torch.utils.data import TensorDataset\n",
        "from transformers import BertForSequenceClassification"
      ]
    },
    {
      "cell_type": "code",
      "source": [
        "data = pd.read_csv('main_dataframe.csv')"
      ],
      "metadata": {
        "id": "nxEZDVZW7nVy"
      },
      "execution_count": null,
      "outputs": []
    },
    {
      "cell_type": "code",
      "source": [
        "data.head(3)"
      ],
      "metadata": {
        "colab": {
          "base_uri": "https://localhost:8080/",
          "height": 143
        },
        "id": "fQnH458u7ot_",
        "outputId": "ff62075f-807a-41ef-f1c7-faf36b7d1bf5"
      },
      "execution_count": null,
      "outputs": [
        {
          "output_type": "execute_result",
          "data": {
            "text/plain": [
              "  File Name  BIRADS Score                                            Content\n",
              "0   308.txt             2  BİLATERAL MAMOGRAFİ İNCELEMESİ\\nHer iki meme d...\n",
              "1   405.txt             2  BİLATERAL MAMOGRAFİ İNCELEMESİ\\nBilateral meme...\n",
              "2   351.txt             2  BİLATERAL MAMOGRAFİ İNCELEMESİ\\nHer iki meme y..."
            ],
            "text/html": [
              "\n",
              "  <div id=\"df-1ade6f21-0c52-43ca-9f18-6dd1b4964678\" class=\"colab-df-container\">\n",
              "    <div>\n",
              "<style scoped>\n",
              "    .dataframe tbody tr th:only-of-type {\n",
              "        vertical-align: middle;\n",
              "    }\n",
              "\n",
              "    .dataframe tbody tr th {\n",
              "        vertical-align: top;\n",
              "    }\n",
              "\n",
              "    .dataframe thead th {\n",
              "        text-align: right;\n",
              "    }\n",
              "</style>\n",
              "<table border=\"1\" class=\"dataframe\">\n",
              "  <thead>\n",
              "    <tr style=\"text-align: right;\">\n",
              "      <th></th>\n",
              "      <th>File Name</th>\n",
              "      <th>BIRADS Score</th>\n",
              "      <th>Content</th>\n",
              "    </tr>\n",
              "  </thead>\n",
              "  <tbody>\n",
              "    <tr>\n",
              "      <th>0</th>\n",
              "      <td>308.txt</td>\n",
              "      <td>2</td>\n",
              "      <td>BİLATERAL MAMOGRAFİ İNCELEMESİ\\nHer iki meme d...</td>\n",
              "    </tr>\n",
              "    <tr>\n",
              "      <th>1</th>\n",
              "      <td>405.txt</td>\n",
              "      <td>2</td>\n",
              "      <td>BİLATERAL MAMOGRAFİ İNCELEMESİ\\nBilateral meme...</td>\n",
              "    </tr>\n",
              "    <tr>\n",
              "      <th>2</th>\n",
              "      <td>351.txt</td>\n",
              "      <td>2</td>\n",
              "      <td>BİLATERAL MAMOGRAFİ İNCELEMESİ\\nHer iki meme y...</td>\n",
              "    </tr>\n",
              "  </tbody>\n",
              "</table>\n",
              "</div>\n",
              "    <div class=\"colab-df-buttons\">\n",
              "\n",
              "  <div class=\"colab-df-container\">\n",
              "    <button class=\"colab-df-convert\" onclick=\"convertToInteractive('df-1ade6f21-0c52-43ca-9f18-6dd1b4964678')\"\n",
              "            title=\"Convert this dataframe to an interactive table.\"\n",
              "            style=\"display:none;\">\n",
              "\n",
              "  <svg xmlns=\"http://www.w3.org/2000/svg\" height=\"24px\" viewBox=\"0 -960 960 960\">\n",
              "    <path d=\"M120-120v-720h720v720H120Zm60-500h600v-160H180v160Zm220 220h160v-160H400v160Zm0 220h160v-160H400v160ZM180-400h160v-160H180v160Zm440 0h160v-160H620v160ZM180-180h160v-160H180v160Zm440 0h160v-160H620v160Z\"/>\n",
              "  </svg>\n",
              "    </button>\n",
              "\n",
              "  <style>\n",
              "    .colab-df-container {\n",
              "      display:flex;\n",
              "      gap: 12px;\n",
              "    }\n",
              "\n",
              "    .colab-df-convert {\n",
              "      background-color: #E8F0FE;\n",
              "      border: none;\n",
              "      border-radius: 50%;\n",
              "      cursor: pointer;\n",
              "      display: none;\n",
              "      fill: #1967D2;\n",
              "      height: 32px;\n",
              "      padding: 0 0 0 0;\n",
              "      width: 32px;\n",
              "    }\n",
              "\n",
              "    .colab-df-convert:hover {\n",
              "      background-color: #E2EBFA;\n",
              "      box-shadow: 0px 1px 2px rgba(60, 64, 67, 0.3), 0px 1px 3px 1px rgba(60, 64, 67, 0.15);\n",
              "      fill: #174EA6;\n",
              "    }\n",
              "\n",
              "    .colab-df-buttons div {\n",
              "      margin-bottom: 4px;\n",
              "    }\n",
              "\n",
              "    [theme=dark] .colab-df-convert {\n",
              "      background-color: #3B4455;\n",
              "      fill: #D2E3FC;\n",
              "    }\n",
              "\n",
              "    [theme=dark] .colab-df-convert:hover {\n",
              "      background-color: #434B5C;\n",
              "      box-shadow: 0px 1px 3px 1px rgba(0, 0, 0, 0.15);\n",
              "      filter: drop-shadow(0px 1px 2px rgba(0, 0, 0, 0.3));\n",
              "      fill: #FFFFFF;\n",
              "    }\n",
              "  </style>\n",
              "\n",
              "    <script>\n",
              "      const buttonEl =\n",
              "        document.querySelector('#df-1ade6f21-0c52-43ca-9f18-6dd1b4964678 button.colab-df-convert');\n",
              "      buttonEl.style.display =\n",
              "        google.colab.kernel.accessAllowed ? 'block' : 'none';\n",
              "\n",
              "      async function convertToInteractive(key) {\n",
              "        const element = document.querySelector('#df-1ade6f21-0c52-43ca-9f18-6dd1b4964678');\n",
              "        const dataTable =\n",
              "          await google.colab.kernel.invokeFunction('convertToInteractive',\n",
              "                                                    [key], {});\n",
              "        if (!dataTable) return;\n",
              "\n",
              "        const docLinkHtml = 'Like what you see? Visit the ' +\n",
              "          '<a target=\"_blank\" href=https://colab.research.google.com/notebooks/data_table.ipynb>data table notebook</a>'\n",
              "          + ' to learn more about interactive tables.';\n",
              "        element.innerHTML = '';\n",
              "        dataTable['output_type'] = 'display_data';\n",
              "        await google.colab.output.renderOutput(dataTable, element);\n",
              "        const docLink = document.createElement('div');\n",
              "        docLink.innerHTML = docLinkHtml;\n",
              "        element.appendChild(docLink);\n",
              "      }\n",
              "    </script>\n",
              "  </div>\n",
              "\n",
              "\n",
              "<div id=\"df-ba313d5d-31e2-4350-bba9-48beb03eaead\">\n",
              "  <button class=\"colab-df-quickchart\" onclick=\"quickchart('df-ba313d5d-31e2-4350-bba9-48beb03eaead')\"\n",
              "            title=\"Suggest charts\"\n",
              "            style=\"display:none;\">\n",
              "\n",
              "<svg xmlns=\"http://www.w3.org/2000/svg\" height=\"24px\"viewBox=\"0 0 24 24\"\n",
              "     width=\"24px\">\n",
              "    <g>\n",
              "        <path d=\"M19 3H5c-1.1 0-2 .9-2 2v14c0 1.1.9 2 2 2h14c1.1 0 2-.9 2-2V5c0-1.1-.9-2-2-2zM9 17H7v-7h2v7zm4 0h-2V7h2v10zm4 0h-2v-4h2v4z\"/>\n",
              "    </g>\n",
              "</svg>\n",
              "  </button>\n",
              "\n",
              "<style>\n",
              "  .colab-df-quickchart {\n",
              "      --bg-color: #E8F0FE;\n",
              "      --fill-color: #1967D2;\n",
              "      --hover-bg-color: #E2EBFA;\n",
              "      --hover-fill-color: #174EA6;\n",
              "      --disabled-fill-color: #AAA;\n",
              "      --disabled-bg-color: #DDD;\n",
              "  }\n",
              "\n",
              "  [theme=dark] .colab-df-quickchart {\n",
              "      --bg-color: #3B4455;\n",
              "      --fill-color: #D2E3FC;\n",
              "      --hover-bg-color: #434B5C;\n",
              "      --hover-fill-color: #FFFFFF;\n",
              "      --disabled-bg-color: #3B4455;\n",
              "      --disabled-fill-color: #666;\n",
              "  }\n",
              "\n",
              "  .colab-df-quickchart {\n",
              "    background-color: var(--bg-color);\n",
              "    border: none;\n",
              "    border-radius: 50%;\n",
              "    cursor: pointer;\n",
              "    display: none;\n",
              "    fill: var(--fill-color);\n",
              "    height: 32px;\n",
              "    padding: 0;\n",
              "    width: 32px;\n",
              "  }\n",
              "\n",
              "  .colab-df-quickchart:hover {\n",
              "    background-color: var(--hover-bg-color);\n",
              "    box-shadow: 0 1px 2px rgba(60, 64, 67, 0.3), 0 1px 3px 1px rgba(60, 64, 67, 0.15);\n",
              "    fill: var(--button-hover-fill-color);\n",
              "  }\n",
              "\n",
              "  .colab-df-quickchart-complete:disabled,\n",
              "  .colab-df-quickchart-complete:disabled:hover {\n",
              "    background-color: var(--disabled-bg-color);\n",
              "    fill: var(--disabled-fill-color);\n",
              "    box-shadow: none;\n",
              "  }\n",
              "\n",
              "  .colab-df-spinner {\n",
              "    border: 2px solid var(--fill-color);\n",
              "    border-color: transparent;\n",
              "    border-bottom-color: var(--fill-color);\n",
              "    animation:\n",
              "      spin 1s steps(1) infinite;\n",
              "  }\n",
              "\n",
              "  @keyframes spin {\n",
              "    0% {\n",
              "      border-color: transparent;\n",
              "      border-bottom-color: var(--fill-color);\n",
              "      border-left-color: var(--fill-color);\n",
              "    }\n",
              "    20% {\n",
              "      border-color: transparent;\n",
              "      border-left-color: var(--fill-color);\n",
              "      border-top-color: var(--fill-color);\n",
              "    }\n",
              "    30% {\n",
              "      border-color: transparent;\n",
              "      border-left-color: var(--fill-color);\n",
              "      border-top-color: var(--fill-color);\n",
              "      border-right-color: var(--fill-color);\n",
              "    }\n",
              "    40% {\n",
              "      border-color: transparent;\n",
              "      border-right-color: var(--fill-color);\n",
              "      border-top-color: var(--fill-color);\n",
              "    }\n",
              "    60% {\n",
              "      border-color: transparent;\n",
              "      border-right-color: var(--fill-color);\n",
              "    }\n",
              "    80% {\n",
              "      border-color: transparent;\n",
              "      border-right-color: var(--fill-color);\n",
              "      border-bottom-color: var(--fill-color);\n",
              "    }\n",
              "    90% {\n",
              "      border-color: transparent;\n",
              "      border-bottom-color: var(--fill-color);\n",
              "    }\n",
              "  }\n",
              "</style>\n",
              "\n",
              "  <script>\n",
              "    async function quickchart(key) {\n",
              "      const quickchartButtonEl =\n",
              "        document.querySelector('#' + key + ' button');\n",
              "      quickchartButtonEl.disabled = true;  // To prevent multiple clicks.\n",
              "      quickchartButtonEl.classList.add('colab-df-spinner');\n",
              "      try {\n",
              "        const charts = await google.colab.kernel.invokeFunction(\n",
              "            'suggestCharts', [key], {});\n",
              "      } catch (error) {\n",
              "        console.error('Error during call to suggestCharts:', error);\n",
              "      }\n",
              "      quickchartButtonEl.classList.remove('colab-df-spinner');\n",
              "      quickchartButtonEl.classList.add('colab-df-quickchart-complete');\n",
              "    }\n",
              "    (() => {\n",
              "      let quickchartButtonEl =\n",
              "        document.querySelector('#df-ba313d5d-31e2-4350-bba9-48beb03eaead button');\n",
              "      quickchartButtonEl.style.display =\n",
              "        google.colab.kernel.accessAllowed ? 'block' : 'none';\n",
              "    })();\n",
              "  </script>\n",
              "</div>\n",
              "\n",
              "    </div>\n",
              "  </div>\n"
            ],
            "application/vnd.google.colaboratory.intrinsic+json": {
              "type": "dataframe",
              "variable_name": "data",
              "summary": "{\n  \"name\": \"data\",\n  \"rows\": 1997,\n  \"fields\": [\n    {\n      \"column\": \"File Name\",\n      \"properties\": {\n        \"dtype\": \"string\",\n        \"num_unique_values\": 1997,\n        \"samples\": [\n          \"407.txt\",\n          \"1611.txt\",\n          \"82.txt\"\n        ],\n        \"semantic_type\": \"\",\n        \"description\": \"\"\n      }\n    },\n    {\n      \"column\": \"BIRADS Score\",\n      \"properties\": {\n        \"dtype\": \"number\",\n        \"std\": 1,\n        \"min\": 1,\n        \"max\": 5,\n        \"num_unique_values\": 5,\n        \"samples\": [\n          3,\n          5,\n          1\n        ],\n        \"semantic_type\": \"\",\n        \"description\": \"\"\n      }\n    },\n    {\n      \"column\": \"Content\",\n      \"properties\": {\n        \"dtype\": \"string\",\n        \"num_unique_values\": 1991,\n        \"samples\": [\n          \"B\\u0130LATERAL MAMOGRAF\\u0130\\u00a0\\u0130NCELEMES\\u0130\\nHer iki meme mamografik olarak tip D meme paternindedir.\\nHer iki memede patolojik mikrokalsifikasyon k\\u00fcmesi saptanmam\\u0131\\u015ft\\u0131r.\\nSa\\u011f memede kitle ya da asimetrik dansite izlenmemi\\u015ftir.\\nSol meme \\u00fcst d\\u0131\\u015f kadran d\\u00fczeyinde yakla\\u015f\\u0131k 43x35 mm boyutunda spik\\u00fcler kontur izlenen opasite g\\u00f6r\\u00fcnt\\u00fclendi. Ayr\\u0131ca sol aksillada hiler l\\u00fcsent g\\u00f6r\\u00fcn\\u00fcm\\u00fc silinmi\\u015f infiltratif g\\u00f6r\\u00fcn\\u00fcmde birka\\u00e7 adet lenf nodu mevcuttur(MET?).\\nSa\\u011f aksillada patolojik boyut art\\u0131\\u015f\\u0131 g\\u00f6steren lenf nodu saptanmam\\u0131\\u015ft\\u0131r.\",\n          \"B\\u0130LATERAL MAMOGRAF\\u0130\\u00a0\\u0130NCELEMES\\u0130\\nBilateral meme cilt kal\\u0131nl\\u0131klar\\u0131 normaldir.\\nHer iki meme ACR Tip A Meme yap\\u0131s\\u0131 g\\u00f6stermektedir. \\u00a0\\nHer iki memede spik\\u00fcle konturlu kitle lezyonu, patolojik kalsifikasyon veya yap\\u0131sal distorsiyon kaydedilmemi\\u015ftir.\\u00a0\\nSa\\u011fda \\u00fcst i\\u00e7 kadranda 32x 31 mm boyutunda d\\u00fczg\\u00fcn s\\u0131n\\u0131rl\\u0131 radio opak lezyon izlenmi\\u015ftir.\\nSol meme alt i\\u00e7 kadranda i\\u00e7erisinde kaba kalsifikasyonlar\\u0131n izlendi\\u011fi 12 mm \\u00e7ap\\u0131nda boyutunda d\\u00fczg\\u00fcn s\\u0131n\\u0131rl\\u0131 radio opak lezyon izlenmi\\u015ftir.\\nSol memede da\\u011f\\u0131n\\u0131k yerle\\u015fimli distrofik kalsifik odaklar izlenmi\\u015ftir.\\u00a0\\n\\u0130nceleme dahilindeki her iki aksiller alanda patolojik boyut ve karakterde lenf nodu saptanmam\\u0131\\u015ft\\u0131r.\\n\\n\",\n          \"B\\u0130LATERAL MAMOGRAF\\u0130\\u00a0\\u0130NCELEMES\\u0130\\nHer iki memede tip B meme paterni izlenmi\\u015ftir.\\nBilateral cilt, ciltalt\\u0131 ya\\u011f dokusu normal olarak de\\u011ferlendirilmi\\u015ftir.\\nBilateral meme ba\\u015f\\u0131 do\\u011fal g\\u00f6r\\u00fcn\\u00fcmdedir.\\nSol memede birka\\u00e7 adet da\\u011f\\u0131n\\u0131k yerle\\u015fimli mikrokalsifikasyon ve makrokalsifikasyon izlendi.\\nBilateral aksillar ovoid \\u015fekilli lenf nodlar\\u0131 izlendi.\"\n        ],\n        \"semantic_type\": \"\",\n        \"description\": \"\"\n      }\n    }\n  ]\n}"
            }
          },
          "metadata": {},
          "execution_count": 3
        }
      ]
    },
    {
      "cell_type": "code",
      "source": [
        "data.rename(columns={'Content': 'content', 'BIRADS Score': 'label'}, inplace=True)"
      ],
      "metadata": {
        "id": "jXS-wTvq7os_"
      },
      "execution_count": null,
      "outputs": []
    },
    {
      "cell_type": "code",
      "source": [
        "data['label'].value_counts()"
      ],
      "metadata": {
        "colab": {
          "base_uri": "https://localhost:8080/"
        },
        "id": "esBuotRK7q4-",
        "outputId": "db5eb90d-d71b-45a3-d760-69c22e1123a7"
      },
      "execution_count": null,
      "outputs": [
        {
          "output_type": "execute_result",
          "data": {
            "text/plain": [
              "label\n",
              "4    549\n",
              "5    548\n",
              "3    450\n",
              "2    399\n",
              "1     51\n",
              "Name: count, dtype: int64"
            ]
          },
          "metadata": {},
          "execution_count": 5
        }
      ]
    },
    {
      "cell_type": "code",
      "source": [
        "print(data['content'].apply(lambda x: len(x.split(' '))).sum())"
      ],
      "metadata": {
        "colab": {
          "base_uri": "https://localhost:8080/"
        },
        "id": "gk1eSg_c7q3U",
        "outputId": "ca49f686-d76d-495e-e4be-435dc4ef0a3a"
      },
      "execution_count": null,
      "outputs": [
        {
          "output_type": "stream",
          "name": "stdout",
          "text": [
            "124534\n"
          ]
        }
      ]
    },
    {
      "cell_type": "code",
      "source": [
        "fig = plt.figure(figsize=(12,5))\n",
        "data.groupby('label').content.count().plot.bar(ylim=0)\n",
        "plt.show();"
      ],
      "metadata": {
        "colab": {
          "base_uri": "https://localhost:8080/",
          "height": 402
        },
        "id": "x5MM_-5g7qvq",
        "outputId": "521aa172-a665-43a8-ac97-39d179b906ed"
      },
      "execution_count": null,
      "outputs": [
        {
          "output_type": "display_data",
          "data": {
            "text/plain": [
              "<Figure size 1200x500 with 1 Axes>"
            ],
            "image/png": "[encoded data removed]"
          },
          "metadata": {}
        }
      ]
    },
    {
      "cell_type": "code",
      "source": [
        "# Basic preprocessing\n",
        "data['content'] = data['content'].str.lower().str.replace(r'[^\\w\\s]', '')\n"
      ],
      "metadata": {
        "id": "RXhrx2PI7qm3"
      },
      "execution_count": null,
      "outputs": []
    },
    {
      "cell_type": "code",
      "source": [
        "\n",
        "turkish_stop_words = [\n",
        "    'acaba', 'ama', 'aslında', 'az', 'bazı', 'belki', 'biri', 'birkaç', 'birşey', 'biz', 'bu', 'çok', 'çünkü',\n",
        "    'da', 'daha', 'de', 'defa', 'diye', 'eğer', 'en', 'gibi', 'hem', 'hep', 'hepsi', 'her', 'hiç', 'için', 'ile',\n",
        "    'ise', 'kez', 'ki', 'kim', 'mı', 'mu', 'mü', 'nasıl', 'ne', 'neden', 'nerde', 'nerede', 'nereye', 'niçin',\n",
        "    'niye', 'o', 'sanki', 'şey', 'siz', 'şu', 'tüm', 've', 'veya', 'ya', 'yani'\n",
        "]\n",
        "\n",
        "\n",
        "\n",
        "# Split the data\n",
        "train_texts, val_texts, train_labels, val_labels = train_test_split(\n",
        "    data['content'], data['label'], test_size=0.125, stratify=data['label'], random_state=42)\n",
        "\n",
        "# Initialize and fit-transform the TF-IDF vectorizer\n",
        "tfidf = TfidfVectorizer(strip_accents='unicode', analyzer='word', token_pattern=r'\\w{1,}',\n",
        "                        ngram_range=(1, 3), use_idf=True, smooth_idf=True, sublinear_tf=True,\n",
        "                        stop_words=turkish_stop_words)\n",
        "\n",
        "tfidf.fit(list(train_texts) + list(val_texts))\n",
        "X_train_tfidf = tfidf.transform(train_texts)\n",
        "X_val_tfidf = tfidf.transform(val_texts)\n",
        "\n",
        "# Initialize and train the Naive Bayes model\n",
        "model = MultinomialNB()\n",
        "model.fit(X_train_tfidf, train_labels)\n",
        "\n",
        "# Make predictions\n",
        "val_predictions = model.predict(X_val_tfidf)\n",
        "\n",
        "\n",
        "target_names = [\"BIRADS-1\",\"BIRADS-2\",\"BIRADS-3\",\"BIRADS-4\",\"BIRADS-5\"]\n",
        "\n",
        "# Print classification report\n",
        "print(classification_report(val_labels, val_predictions, target_names=target_names))\n",
        "\n",
        "# Print confusion matrix\n",
        "conf_matrix = confusion_matrix(val_labels, val_predictions)\n",
        "print(\"Confusion Matrix:\")\n",
        "print(conf_matrix)"
      ],
      "metadata": {
        "colab": {
          "base_uri": "https://localhost:8080/"
        },
        "id": "PEXJDRMn70zO",
        "outputId": "f173fd08-ecf6-4787-f45e-55caa01f3eb7"
      },
      "execution_count": null,
      "outputs": [
        {
          "output_type": "stream",
          "name": "stderr",
          "text": [
            "/usr/local/lib/python3.10/dist-packages/sklearn/feature_extraction/text.py:409: UserWarning: Your stop_words may be inconsistent with your preprocessing. Tokenizing the stop words generated tokens ['birkac', 'birsey', 'cok', 'cunku', 'eger', 'hic', 'icin', 'nicin', 'sey', 'su', 'tum'] not in stop_words.\n",
            "  warnings.warn(\n"
          ]
        },
        {
          "output_type": "stream",
          "name": "stdout",
          "text": [
            "              precision    recall  f1-score   support\n",
            "\n",
            "    BIRADS-1       0.00      0.00      0.00         6\n",
            "    BIRADS-2       0.70      0.76      0.73        50\n",
            "    BIRADS-3       0.82      0.75      0.79        56\n",
            "    BIRADS-4       0.84      0.83      0.83        69\n",
            "    BIRADS-5       0.82      0.91      0.86        69\n",
            "\n",
            "    accuracy                           0.80       250\n",
            "   macro avg       0.64      0.65      0.64       250\n",
            "weighted avg       0.78      0.80      0.79       250\n",
            "\n",
            "Confusion Matrix:\n",
            "[[ 0  4  1  0  1]\n",
            " [ 0 38  5  1  6]\n",
            " [ 0  2 42  7  5]\n",
            " [ 0  9  1 57  2]\n",
            " [ 0  1  2  3 63]]\n"
          ]
        },
        {
          "output_type": "stream",
          "name": "stderr",
          "text": [
            "/usr/local/lib/python3.10/dist-packages/sklearn/metrics/_classification.py:1344: UndefinedMetricWarning: Precision and F-score are ill-defined and being set to 0.0 in labels with no predicted samples. Use `zero_division` parameter to control this behavior.\n",
            "  _warn_prf(average, modifier, msg_start, len(result))\n",
            "/usr/local/lib/python3.10/dist-packages/sklearn/metrics/_classification.py:1344: UndefinedMetricWarning: Precision and F-score are ill-defined and being set to 0.0 in labels with no predicted samples. Use `zero_division` parameter to control this behavior.\n",
            "  _warn_prf(average, modifier, msg_start, len(result))\n",
            "/usr/local/lib/python3.10/dist-packages/sklearn/metrics/_classification.py:1344: UndefinedMetricWarning: Precision and F-score are ill-defined and being set to 0.0 in labels with no predicted samples. Use `zero_division` parameter to control this behavior.\n",
            "  _warn_prf(average, modifier, msg_start, len(result))\n"
          ]
        }
      ]
    },
    {
      "cell_type": "code",
      "source": [
        "# Function to predict the label of a new text\n",
        "def predict_new_text(text):\n",
        "    # Vectorize the text using the previously fitted TF-IDF vectorizer\n",
        "    text_vectorized = tfidf.transform([text])\n",
        "    # Predict the label using the trained model\n",
        "    prediction = model.predict(text_vectorized)\n",
        "    # Return the predicted label\n",
        "    return target_names[prediction[0]]\n",
        "\n",
        "# Test the function with a new text\n",
        "new_text = \"BİLATERAL MAMOGRAFİ İNCELEMESİ:\tCilt, cilt altı yağ dokusu ve meme başları doğaldır. Dens meme paterni izlenmektedir. Patolojik kalsifikasyon saptanmamıştır. Aksillalar doğaldır. Sağ meme iç alt kadranda irregüler şekilli  25 x 10 mm boyutunda silik sınırlı lezyon saptanmıştır.\"\n",
        "\n",
        "\n",
        "predicted_label = predict_new_text(new_text)\n",
        "print(f\"Predicted Label for the new text: {predicted_label}\")"
      ],
      "metadata": {
        "id": "A-PwGket71T-"
      },
      "execution_count": null,
      "outputs": []
    }
  ]
}